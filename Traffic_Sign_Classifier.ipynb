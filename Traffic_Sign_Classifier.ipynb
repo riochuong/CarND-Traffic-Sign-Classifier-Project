{
 "cells": [
  {
   "cell_type": "markdown",
   "metadata": {},
   "source": [
    "# Self-Driving Car Engineer Nanodegree\n",
    "\n",
    "## Deep Learning\n",
    "\n",
    "## Project: Build a Traffic Sign Recognition Classifier\n",
    "\n",
    "In this notebook, a template is provided for you to implement your functionality in stages, which is required to successfully complete this project. If additional code is required that cannot be included in the notebook, be sure that the Python code is successfully imported and included in your submission if necessary. \n",
    "\n",
    "> **Note**: Once you have completed all of the code implementations, you need to finalize your work by exporting the iPython Notebook as an HTML document. Before exporting the notebook to html, all of the code cells need to have been run so that reviewers can see the final implementation and output. You can then export the notebook by using the menu above and navigating to  \\n\",\n",
    "    \"**File -> Download as -> HTML (.html)**. Include the finished document along with this notebook as your submission. \n",
    "\n",
    "In addition to implementing code, there is a writeup to complete. The writeup should be completed in a separate file, which can be either a markdown file or a pdf document. There is a [write up template](https://github.com/udacity/CarND-Traffic-Sign-Classifier-Project/blob/master/writeup_template.md) that can be used to guide the writing process. Completing the code template and writeup template will cover all of the [rubric points](https://review.udacity.com/#!/rubrics/481/view) for this project.\n",
    "\n",
    "The [rubric](https://review.udacity.com/#!/rubrics/481/view) contains \"Stand Out Suggestions\" for enhancing the project beyond the minimum requirements. The stand out suggestions are optional. If you decide to pursue the \"stand out suggestions\", you can include the code in this Ipython notebook and also discuss the results in the writeup file.\n",
    "\n",
    "\n",
    ">**Note:** Code and Markdown cells can be executed using the **Shift + Enter** keyboard shortcut. In addition, Markdown cells can be edited by typically double-clicking the cell to enter edit mode."
   ]
  },
  {
   "cell_type": "markdown",
   "metadata": {},
   "source": [
    "---\n",
    "## Step 0: Load The Data"
   ]
  },
  {
   "cell_type": "code",
   "execution_count": 1,
   "metadata": {
    "collapsed": true
   },
   "outputs": [],
   "source": [
    "# Load pickled data\n",
    "import pickle\n",
    "import numpy as np\n",
    "\n",
    "# TODO: Fill this in based on where you saved the training and testing data\n",
    "\n",
    "training_file = \"data/train.p\"\n",
    "validation_file= \"data/valid.p\"\n",
    "testing_file = \"data/test.p\"\n",
    "\n",
    "with open(training_file, mode='rb') as f:\n",
    "    train = pickle.load(f)\n",
    "with open(validation_file, mode='rb') as f:\n",
    "    valid = pickle.load(f)\n",
    "with open(testing_file, mode='rb') as f:\n",
    "    test = pickle.load(f)\n",
    "    \n",
    "X_train, Y_train = train['features'], train['labels']\n",
    "X_valid, Y_valid = valid['features'], valid['labels']\n",
    "X_test, Y_test = test['features'], test['labels']"
   ]
  },
  {
   "cell_type": "markdown",
   "metadata": {},
   "source": [
    "---\n",
    "\n",
    "## Step 1: Dataset Summary & Exploration\n",
    "\n",
    "The pickled data is a dictionary with 4 key/value pairs:\n",
    "\n",
    "- `'features'` is a 4D array containing raw pixel data of the traffic sign images, (num examples, width, height, channels).\n",
    "- `'labels'` is a 1D array containing the label/class id of the traffic sign. The file `signnames.csv` contains id -> name mappings for each id.\n",
    "- `'sizes'` is a list containing tuples, (width, height) representing the original width and height the image.\n",
    "- `'coords'` is a list containing tuples, (x1, y1, x2, y2) representing coordinates of a bounding box around the sign in the image. **THESE COORDINATES ASSUME THE ORIGINAL IMAGE. THE PICKLED DATA CONTAINS RESIZED VERSIONS (32 by 32) OF THESE IMAGES**\n",
    "\n",
    "Complete the basic data summary below. Use python, numpy and/or pandas methods to calculate the data summary rather than hard coding the results. For example, the [pandas shape method](http://pandas.pydata.org/pandas-docs/stable/generated/pandas.DataFrame.shape.html) might be useful for calculating some of the summary results. "
   ]
  },
  {
   "cell_type": "markdown",
   "metadata": {},
   "source": [
    "### Provide a Basic Summary of the Data Set Using Python, Numpy and/or Pandas"
   ]
  },
  {
   "cell_type": "code",
   "execution_count": 2,
   "metadata": {},
   "outputs": [
    {
     "name": "stdout",
     "output_type": "stream",
     "text": [
      "Number of training examples = 34799\n",
      "Number of testing examples = 12630\n",
      "Number of validation examples = 4410\n",
      "Image data shape = (32, 32, 3)\n",
      "Number of classes = 43\n"
     ]
    }
   ],
   "source": [
    "### Replace each question mark with the appropriate value. \n",
    "### Use python, pandas or numpy methods rather than hard coding the results\n",
    "\n",
    "# TODO: Number of training examples\n",
    "n_train = len(X_train)\n",
    "\n",
    "# TODO: Number of validation examples\n",
    "n_validation = len(X_valid)\n",
    "\n",
    "# TODO: Number of testing examples.\n",
    "n_test = len(X_test)\n",
    "\n",
    "# TODO: What's the shape of an traffic sign image?\n",
    "image_shape = X_train[0].shape\n",
    "\n",
    "# TODO: How many unique classes/labels there are in the dataset.\n",
    "n_classes = len(np.unique(Y_train))\n",
    "\n",
    "print(\"Number of training examples =\", n_train)\n",
    "print(\"Number of testing examples =\", n_test)\n",
    "print(\"Number of validation examples =\", n_validation)\n",
    "print(\"Image data shape =\", image_shape)\n",
    "print(\"Number of classes =\", n_classes)"
   ]
  },
  {
   "cell_type": "markdown",
   "metadata": {},
   "source": [
    "### Include an exploratory visualization of the dataset"
   ]
  },
  {
   "cell_type": "markdown",
   "metadata": {},
   "source": [
    "Visualize the German Traffic Signs Dataset using the pickled file(s). This is open ended, suggestions include: plotting traffic sign images, plotting the count of each sign, etc. \n",
    "\n",
    "The [Matplotlib](http://matplotlib.org/) [examples](http://matplotlib.org/examples/index.html) and [gallery](http://matplotlib.org/gallery.html) pages are a great resource for doing visualizations in Python.\n",
    "\n",
    "**NOTE:** It's recommended you start with something simple first. If you wish to do more, come back to it after you've completed the rest of the sections. It can be interesting to look at the distribution of classes in the training, validation and test set. Is the distribution the same? Are there more examples of some classes than others?"
   ]
  },
  {
   "cell_type": "code",
   "execution_count": 3,
   "metadata": {
    "collapsed": true
   },
   "outputs": [],
   "source": [
    "### Data exploration visualization code goes here.\n",
    "### Feel free to use as many code cells as needed.\n",
    "import os\n",
    "import matplotlib.pyplot as plt\n",
    "import cv2\n",
    "# Visualizations will be shown in the notebook.\n",
    "import seaborn as sns\n",
    "%matplotlib inline\n",
    "sns.set()\n"
   ]
  },
  {
   "cell_type": "code",
   "execution_count": 4,
   "metadata": {},
   "outputs": [
    {
     "name": "stdout",
     "output_type": "stream",
     "text": [
      "[ 0  1  2  3  4  5  6  7  8  9 10 11 12 13 14 15 16 17 18 19 20 21 22 23 24\n",
      " 25 26 27 28 29 30 31 32 33 34 35 36 37 38 39 40 41 42]\n"
     ]
    },
    {
     "name": "stderr",
     "output_type": "stream",
     "text": [
      "/home/carnd/anaconda3/envs/carnd-term1/lib/python3.5/site-packages/matplotlib/font_manager.py:1297: UserWarning: findfont: Font family ['sans-serif'] not found. Falling back to DejaVu Sans\n",
      "  (prop.get_family(), self.defaultFamily[fontext]))\n"
     ]
    },
    {
     "name": "stdout",
     "output_type": "stream",
     "text": [
      "[ 0  1  2  3  4  5  6  7  8  9 10 11 12 13 14 15 16 17 18 19 20 21 22 23 24\n",
      " 25 26 27 28 29 30 31 32 33 34 35 36 37 38 39 40 41 42]\n",
      "[ 0  1  2  3  4  5  6  7  8  9 10 11 12 13 14 15 16 17 18 19 20 21 22 23 24\n",
      " 25 26 27 28 29 30 31 32 33 34 35 36 37 38 39 40 41 42]\n"
     ]
    },
    {
     "data": {
      "image/png": "[encoded data removed]",
      "text/plain": [
       "<matplotlib.figure.Figure at 0x7f9385f87e80>"
      ]
     },
     "metadata": {},
     "output_type": "display_data"
    },
    {
     "data": {
      "image/png": "[encoded data removed]",
      "text/plain": [
       "<matplotlib.figure.Figure at 0x7f93435e44a8>"
      ]
     },
     "metadata": {},
     "output_type": "display_data"
    },
    {
     "data": {
      "image/png": "[encoded data removed]",
      "text/plain": [
       "<matplotlib.figure.Figure at 0x7f9343430e10>"
      ]
     },
     "metadata": {},
     "output_type": "display_data"
    }
   ],
   "source": [
    "y_unique = np.unique(Y_train)\n",
    "print(y_unique)\n",
    "plt.hist(Y_train, bins=y_unique)\n",
    "plt.title(\"TRAIN DATA LABEL\")\n",
    "plt.xlabel(\"Label Unique Id\")\n",
    "plt.ylabel(\"Count\")\n",
    "plt.savefig(\"./train_data.png\")\n",
    "\n",
    "y_unique = np.unique(Y_valid)\n",
    "print(y_unique)\n",
    "plt.figure()\n",
    "plt.hist(Y_valid, bins=y_unique)\n",
    "plt.title(\"VALIDATION DATA LABEL\")\n",
    "plt.xlabel(\"Label Unique Id\")\n",
    "plt.ylabel(\"Count\")\n",
    "plt.savefig(\"./valid_data.png\")\n",
    "\n",
    "y_unique = np.unique(Y_test)\n",
    "print(y_unique)\n",
    "plt.figure()\n",
    "plt.hist(Y_test, bins=y_unique)\n",
    "plt.title(\"TEST DATA LABEL\")\n",
    "plt.xlabel(\"Label Unique Id\")\n",
    "plt.ylabel(\"Count\")\n",
    "plt.savefig(\"./test_data.png\")\n"
   ]
  },
  {
   "cell_type": "markdown",
   "metadata": {},
   "source": [
    "----\n",
    "\n",
    "## Step 2: Design and Test a Model Architecture\n",
    "\n",
    "Design and implement a deep learning model that learns to recognize traffic signs. Train and test your model on the [German Traffic Sign Dataset](http://benchmark.ini.rub.de/?section=gtsrb&subsection=dataset).\n",
    "\n",
    "The LeNet-5 implementation shown in the [classroom](https://classroom.udacity.com/nanodegrees/nd013/parts/fbf77062-5703-404e-b60c-95b78b2f3f9e/modules/6df7ae49-c61c-4bb2-a23e-6527e69209ec/lessons/601ae704-1035-4287-8b11-e2c2716217ad/concepts/d4aca031-508f-4e0b-b493-e7b706120f81) at the end of the CNN lesson is a solid starting point. You'll have to change the number of classes and possibly the preprocessing, but aside from that it's plug and play! \n",
    "\n",
    "With the LeNet-5 solution from the lecture, you should expect a validation set accuracy of about 0.89. To meet specifications, the validation set accuracy will need to be at least 0.93. It is possible to get an even higher accuracy, but 0.93 is the minimum for a successful project submission. \n",
    "\n",
    "There are various aspects to consider when thinking about this problem:\n",
    "\n",
    "- Neural network architecture (is the network over or underfitting?)\n",
    "- Play around preprocessing techniques (normalization, rgb to grayscale, etc)\n",
    "- Number of examples per label (some have more than others).\n",
    "- Generate fake data.\n",
    "\n",
    "Here is an example of a [published baseline model on this problem](http://yann.lecun.com/exdb/publis/pdf/sermanet-ijcnn-11.pdf). It's not required to be familiar with the approach used in the paper but, it's good practice to try to read papers like these."
   ]
  },
  {
   "cell_type": "markdown",
   "metadata": {},
   "source": [
    "### Pre-process the Data Set (normalization, grayscale, etc.)"
   ]
  },
  {
   "cell_type": "markdown",
   "metadata": {},
   "source": [
    "Minimally, the image data should be normalized so that the data has mean zero and equal variance. For image data, `(pixel - 128)/ 128` is a quick way to approximately normalize the data and can be used in this project. \n",
    "\n",
    "Other pre-processing steps are optional. You can try different techniques to see if it improves performance. \n",
    "\n",
    "Use the code cell (or multiple code cells, if necessary) to implement the first step of your project."
   ]
  },
  {
   "cell_type": "code",
   "execution_count": 5,
   "metadata": {},
   "outputs": [
    {
     "name": "stderr",
     "output_type": "stream",
     "text": [
      "/home/carnd/anaconda3/envs/carnd-term1/lib/python3.5/site-packages/matplotlib/font_manager.py:1297: UserWarning: findfont: Font family ['sans-serif'] not found. Falling back to DejaVu Sans\n",
      "  (prop.get_family(), self.defaultFamily[fontext]))\n"
     ]
    },
    {
     "data": {
      "image/png": "[encoded data removed]",
      "text/plain": [
       "<matplotlib.figure.Figure at 0x7f93432d09e8>"
      ]
     },
     "metadata": {},
     "output_type": "display_data"
    },
    {
     "data": {
      "image/png": "[encoded data removed]",
      "text/plain": [
       "<matplotlib.figure.Figure at 0x7f9343241fd0>"
      ]
     },
     "metadata": {},
     "output_type": "display_data"
    }
   ],
   "source": [
    "### Preprocess the data here. It is required to normalize the data. Other preprocessing steps could include \n",
    "### converting to grayscale, etc.\n",
    "### Feel free to use as many code cells as needed.\n",
    "\n",
    "\n",
    "# convert to grayscale\n",
    "plt.figure(figsize=(2,2))\n",
    "plt.imshow(X_train[1001], cmap='gray')\n",
    "plt.savefig('before.png')\n",
    "X_train = np.array([cv2.cvtColor(img, cv2.COLOR_RGB2GRAY) for img in X_train])\n",
    "X_test = np.array([cv2.cvtColor(img, cv2.COLOR_RGB2GRAY) for img in X_test])\n",
    "X_valid = np.array([cv2.cvtColor(img, cv2.COLOR_RGB2GRAY) for img in X_valid])\n",
    "# Normalize \n",
    "img_shape = X_train[1001].shape\n",
    "# plot new image \n",
    "plt.figure(figsize=(2,2))\n",
    "plt.imshow(X_train[1001], cmap='gray')\n",
    "plt.savefig('after.png')\n",
    "\n",
    "X_train = np.array([(img.reshape(img_shape[0], img_shape[1],1) - 128)/128 for img in X_train ])\n",
    "X_test = np.array([(img.reshape(img_shape[0], img_shape[1],1) - 128)/128 for img in X_test ])\n",
    "X_valid = np.array([(img.reshape(img_shape[0], img_shape[1],1) - 128)/128 for img in X_valid ])\n"
   ]
  },
  {
   "cell_type": "code",
   "execution_count": 6,
   "metadata": {},
   "outputs": [
    {
     "name": "stdout",
     "output_type": "stream",
     "text": [
      "1.3.0\n"
     ]
    }
   ],
   "source": [
    "from sklearn.utils import shuffle\n",
    "import tensorflow as tf\n",
    "print(tf.__version__)\n",
    "X_train, Y_train = shuffle(X_train, Y_train)"
   ]
  },
  {
   "cell_type": "markdown",
   "metadata": {},
   "source": [
    "### Model Architecture"
   ]
  },
  {
   "cell_type": "code",
   "execution_count": 7,
   "metadata": {
    "collapsed": true
   },
   "outputs": [],
   "source": [
    "### Define your architecture here.\n",
    "### Feel free to use as many code cells as needed.\n",
    "### BORROWED THE ARCHIECTURE FROM LECTURE. Adding dropout and batchnorm to improve performance\n",
    "\n",
    "def create_traffic_model(x, fc_keep_prob, conv_keep_prob):\n",
    "    mu = 0\n",
    "    sigma = 0.1\n",
    "\n",
    "    # SOLUTION: Layer 1: Convolutional. Input = 32x32x1. Output = 30x30x64.\n",
    "    conv1_W = tf.Variable(tf.truncated_normal(shape=(3, 3, 1, 64), mean = mu, stddev = sigma))\n",
    "    conv1_b = tf.Variable(tf.zeros(64))\n",
    "    conv1   = tf.nn.conv2d(x, conv1_W, strides=[1, 1, 1, 1], padding='VALID') + conv1_b\n",
    "    conv1   = tf.layers.batch_normalization(conv1)\n",
    "    # SOLUTION: Activation.\n",
    "    conv1 = tf.nn.relu(conv1)\n",
    "    conv1 = tf.nn.dropout(conv1, keep_prob=conv_keep_prob)\n",
    "\n",
    "    # SOLUTION: Pooling. Input = 30*30*64. Output = 15x15x64.\n",
    "    conv1 = tf.nn.max_pool(conv1, ksize=[1, 2, 2, 1], strides=[1, 2, 2, 1], padding='VALID')\n",
    "\n",
    "    # SOLUTION: Layer 2: Convolutional. Input=15x15x64 Output = 13x13x128.\n",
    "    conv2_W = tf.Variable(tf.truncated_normal(shape=(3, 3, 64, 128), mean = mu, stddev = sigma))\n",
    "    conv2_b = tf.Variable(tf.zeros(128))\n",
    "    conv2   = tf.nn.conv2d(conv1, conv2_W, strides=[1, 1, 1, 1], padding='VALID') + conv2_b\n",
    "    conv2   = tf.layers.batch_normalization(conv2)\n",
    "    # SOLUTION: Activation.\n",
    "    conv2 = tf.nn.relu(conv2)\n",
    "    conv2 = tf.nn.dropout(conv2, keep_prob=conv_keep_prob)\n",
    "\n",
    "    # SOLUTION: Pooling. Input = 13x13x128. Output = 6x6x128.\n",
    "    conv2 = tf.nn.max_pool(conv2, ksize=[1, 2, 2, 1], strides=[1, 2, 2, 1], padding='VALID')\n",
    "    \n",
    "    # input 6x6x128 Output = 4x4x256.\n",
    "    conv3_W = tf.Variable(tf.truncated_normal(shape=(3, 3, 128, 256), mean = mu, stddev = sigma))\n",
    "    conv3_b = tf.Variable(tf.zeros(256))\n",
    "    conv3   = tf.nn.conv2d(conv2, conv3_W, strides=[1, 1, 1, 1], padding='VALID') + conv3_b\n",
    "    conv3   = tf.layers.batch_normalization(conv3)\n",
    "    # SOLUTION: Activation.\n",
    "    conv3 = tf.nn.relu(conv3)\n",
    "    conv3 = tf.nn.dropout(conv3, keep_prob=conv_keep_prob)\n",
    "\n",
    "    # SOLUTION: Pooling. Input = 4x4x256. output = 2x2x256\n",
    "    conv3 = tf.nn.max_pool(conv3, ksize=[1, 2, 2, 1], strides=[1, 2, 2, 1], padding='VALID')\n",
    "    \n",
    "    fc0   = tf.contrib.layers.flatten(conv3)\n",
    "\n",
    "    # SOLUTION: Layer 3: Fully Connected. Input = 6272. Output = 6000.\n",
    "    fc1_W = tf.Variable(tf.truncated_normal(shape=(1024, 500), mean = mu, stddev = sigma))\n",
    "    fc1_b = tf.Variable(tf.zeros(500))\n",
    "    fc1   = tf.matmul(fc0, fc1_W) + fc1_b\n",
    "    fc1   = tf.layers.batch_normalization(fc1)\n",
    "    # SOLUTION: Activation.\n",
    "    fc1    = tf.nn.relu(fc1)\n",
    "    fc1 = tf.nn.dropout(fc1, keep_prob=fc_keep_prob)\n",
    "    # SOLUTION: Layer 4: Fully Connected. Input = 120. Output = 84.\n",
    "    fc2_W  = tf.Variable(tf.truncated_normal(shape=(500, 300), mean = mu, stddev = sigma))\n",
    "    fc2_b  = tf.Variable(tf.zeros(300))\n",
    "    fc2    = tf.matmul(fc1, fc2_W) + fc2_b\n",
    "    \n",
    "    fc2   = tf.layers.batch_normalization(fc2)\n",
    "    # SOLUTION: Activation.\n",
    "    fc2    = tf.nn.relu(fc2)\n",
    "    fc2 = tf.nn.dropout(fc2, keep_prob=fc_keep_prob)\n",
    "#     # SOLUTION: Layer 5: Fully Connected. Input = 84. Output = 10.\n",
    "    fc3_W  = tf.Variable(tf.truncated_normal(shape=(300, n_classes), mean = mu, stddev = sigma))\n",
    "    fc3_b  = tf.Variable(tf.zeros(n_classes))\n",
    "    logits = tf.matmul(fc2, fc3_W) + fc3_b\n",
    "\n",
    "    return logits"
   ]
  },
  {
   "cell_type": "markdown",
   "metadata": {},
   "source": [
    "### Train, Validate and Test the Model"
   ]
  },
  {
   "cell_type": "markdown",
   "metadata": {},
   "source": [
    "A validation set can be used to assess how well the model is performing. A low accuracy on the training and validation\n",
    "sets imply underfitting. A high accuracy on the training set but low accuracy on the validation set implies overfitting."
   ]
  },
  {
   "cell_type": "code",
   "execution_count": 8,
   "metadata": {
    "collapsed": true
   },
   "outputs": [],
   "source": [
    "## HYPER PARAMS\n",
    "epochs = 100\n",
    "BATCH_SIZE = 32\n",
    "learning_rate = 0.0005\n",
    "x = tf.placeholder(tf.float32,(None, 32, 32, 1))\n",
    "y = tf.placeholder(tf.int32, (None))\n",
    "fc_keep_prob = tf.placeholder(tf.float32, name='fc_keep_prob')\n",
    "conv_keep_prob = tf.placeholder(tf.float32, name='conv_keep_prob')\n",
    "y_one_hot = tf.one_hot(y, n_classes)\n",
    "logits = create_traffic_model(x, fc_keep_prob=fc_keep_prob, conv_keep_prob=conv_keep_prob)"
   ]
  },
  {
   "cell_type": "code",
   "execution_count": 9,
   "metadata": {
    "collapsed": true
   },
   "outputs": [],
   "source": [
    "### Train your model here.\n",
    "\n",
    "### Calculate and report the accuracy on the training and validation set.\n",
    "cross_entropy = tf.nn.softmax_cross_entropy_with_logits(labels=y_one_hot, logits=logits)\n",
    "loss_op = tf.reduce_mean(cross_entropy)\n",
    "optimizer = tf.train.AdamOptimizer(learning_rate=learning_rate)\n",
    "training_op = optimizer.minimize(loss_op)"
   ]
  },
  {
   "cell_type": "code",
   "execution_count": 10,
   "metadata": {
    "collapsed": true
   },
   "outputs": [],
   "source": [
    "### Evaluation \n",
    "correct_prediction = tf.equal(tf.argmax(logits, 1), tf.argmax(y_one_hot, 1))\n",
    "accuracy_operation = tf.reduce_mean(tf.cast(correct_prediction, tf.float32))\n",
    "saver = tf.train.Saver()\n",
    "\n",
    "# evaluate model only use for validation \n",
    "def evaluate(X_data, Y_data):\n",
    "    num_examples = len(X_data)\n",
    "    total_accuracy = 0\n",
    "    sess = tf.get_default_session()\n",
    "    for offset in range(0, num_examples, BATCH_SIZE):\n",
    "        batch_x, batch_y = X_data[offset:offset+BATCH_SIZE], Y_data[offset:offset+BATCH_SIZE]\n",
    "        accuracy = sess.run(accuracy_operation, feed_dict={x: batch_x, y: batch_y, fc_keep_prob: 1.0, conv_keep_prob: 1.0})\n",
    "        total_accuracy += (accuracy * len(batch_x)) # quick trick to calculate number of match prediction\n",
    "    return total_accuracy / num_examples"
   ]
  },
  {
   "cell_type": "code",
   "execution_count": 11,
   "metadata": {},
   "outputs": [
    {
     "name": "stdout",
     "output_type": "stream",
     "text": [
      "Start Training ... \n",
      "EPOCH: 0 ... \n",
      "Validation Accuracy: 0.10 \n",
      "\n",
      "EPOCH: 1 ... \n",
      "Validation Accuracy: 0.17 \n",
      "\n",
      "EPOCH: 2 ... \n",
      "Validation Accuracy: 0.37 \n",
      "\n",
      "EPOCH: 3 ... \n",
      "Validation Accuracy: 0.50 \n",
      "\n",
      "EPOCH: 4 ... \n",
      "Validation Accuracy: 0.61 \n",
      "\n",
      "EPOCH: 5 ... \n",
      "Validation Accuracy: 0.66 \n",
      "\n",
      "EPOCH: 6 ... \n",
      "Validation Accuracy: 0.74 \n",
      "\n",
      "EPOCH: 7 ... \n",
      "Validation Accuracy: 0.78 \n",
      "\n",
      "EPOCH: 8 ... \n",
      "Validation Accuracy: 0.81 \n",
      "\n",
      "EPOCH: 9 ... \n",
      "Validation Accuracy: 0.86 \n",
      "\n",
      "EPOCH: 10 ... \n",
      "Validation Accuracy: 0.87 \n",
      "\n",
      "EPOCH: 11 ... \n",
      "Validation Accuracy: 0.87 \n",
      "\n",
      "EPOCH: 12 ... \n",
      "Validation Accuracy: 0.89 \n",
      "\n",
      "EPOCH: 13 ... \n",
      "Validation Accuracy: 0.90 \n",
      "\n",
      "EPOCH: 14 ... \n",
      "Validation Accuracy: 0.90 \n",
      "\n",
      "EPOCH: 15 ... \n",
      "Validation Accuracy: 0.91 \n",
      "\n",
      "EPOCH: 16 ... \n",
      "Validation Accuracy: 0.91 \n",
      "\n",
      "EPOCH: 17 ... \n",
      "Validation Accuracy: 0.91 \n",
      "\n",
      "EPOCH: 18 ... \n",
      "Validation Accuracy: 0.92 \n",
      "\n",
      "EPOCH: 19 ... \n",
      "Validation Accuracy: 0.91 \n",
      "\n",
      "EPOCH: 20 ... \n",
      "Validation Accuracy: 0.92 \n",
      "\n",
      "EPOCH: 21 ... \n",
      "Validation Accuracy: 0.91 \n",
      "\n",
      "EPOCH: 22 ... \n",
      "Validation Accuracy: 0.91 \n",
      "\n",
      "EPOCH: 23 ... \n",
      "Validation Accuracy: 0.92 \n",
      "\n",
      "EPOCH: 24 ... \n",
      "Validation Accuracy: 0.92 \n",
      "\n",
      "EPOCH: 25 ... \n",
      "Validation Accuracy: 0.93 \n",
      "\n",
      "EPOCH: 26 ... \n",
      "Validation Accuracy: 0.91 \n",
      "\n",
      "EPOCH: 27 ... \n",
      "Validation Accuracy: 0.92 \n",
      "\n",
      "saved new accuracy 0.94 Step 28\n",
      "Training acc 0.93 \n",
      "EPOCH: 28 ... \n",
      "Validation Accuracy: 0.94 \n",
      "\n",
      "EPOCH: 29 ... \n",
      "Validation Accuracy: 0.93 \n",
      "\n",
      "EPOCH: 30 ... \n",
      "Validation Accuracy: 0.92 \n",
      "\n",
      "EPOCH: 31 ... \n",
      "Validation Accuracy: 0.93 \n",
      "\n",
      "EPOCH: 32 ... \n",
      "Validation Accuracy: 0.93 \n",
      "\n",
      "EPOCH: 33 ... \n",
      "Validation Accuracy: 0.93 \n",
      "\n",
      "EPOCH: 34 ... \n",
      "Validation Accuracy: 0.93 \n",
      "\n",
      "EPOCH: 35 ... \n",
      "Validation Accuracy: 0.92 \n",
      "\n",
      "EPOCH: 36 ... \n",
      "Validation Accuracy: 0.93 \n",
      "\n",
      "EPOCH: 37 ... \n",
      "Validation Accuracy: 0.93 \n",
      "\n",
      "saved new accuracy 0.94 Step 38\n",
      "Training acc 0.93 \n",
      "EPOCH: 38 ... \n",
      "Validation Accuracy: 0.94 \n",
      "\n",
      "EPOCH: 39 ... \n",
      "Validation Accuracy: 0.93 \n",
      "\n",
      "EPOCH: 40 ... \n",
      "Validation Accuracy: 0.93 \n",
      "\n",
      "saved new accuracy 0.94 Step 41\n",
      "Training acc 1.00 \n",
      "EPOCH: 41 ... \n",
      "Validation Accuracy: 0.94 \n",
      "\n",
      "EPOCH: 42 ... \n",
      "Validation Accuracy: 0.93 \n",
      "\n",
      "EPOCH: 43 ... \n",
      "Validation Accuracy: 0.94 \n",
      "\n",
      "EPOCH: 44 ... \n",
      "Validation Accuracy: 0.93 \n",
      "\n",
      "EPOCH: 45 ... \n",
      "Validation Accuracy: 0.93 \n",
      "\n",
      "EPOCH: 46 ... \n",
      "Validation Accuracy: 0.93 \n",
      "\n",
      "saved new accuracy 0.94 Step 47\n",
      "Training acc 1.00 \n",
      "EPOCH: 47 ... \n",
      "Validation Accuracy: 0.94 \n",
      "\n",
      "EPOCH: 48 ... \n",
      "Validation Accuracy: 0.93 \n",
      "\n",
      "EPOCH: 49 ... \n",
      "Validation Accuracy: 0.94 \n",
      "\n",
      "EPOCH: 50 ... \n",
      "Validation Accuracy: 0.93 \n",
      "\n",
      "saved new accuracy 0.94 Step 51\n",
      "Training acc 1.00 \n",
      "EPOCH: 51 ... \n",
      "Validation Accuracy: 0.94 \n",
      "\n",
      "EPOCH: 52 ... \n",
      "Validation Accuracy: 0.92 \n",
      "\n",
      "EPOCH: 53 ... \n",
      "Validation Accuracy: 0.93 \n",
      "\n",
      "EPOCH: 54 ... \n",
      "Validation Accuracy: 0.93 \n",
      "\n",
      "EPOCH: 55 ... \n",
      "Validation Accuracy: 0.94 \n",
      "\n",
      "saved new accuracy 0.94 Step 56\n",
      "Training acc 1.00 \n",
      "EPOCH: 56 ... \n",
      "Validation Accuracy: 0.94 \n",
      "\n",
      "EPOCH: 57 ... \n",
      "Validation Accuracy: 0.93 \n",
      "\n",
      "EPOCH: 58 ... \n",
      "Validation Accuracy: 0.92 \n",
      "\n",
      "saved new accuracy 0.94 Step 59\n",
      "Training acc 1.00 \n",
      "EPOCH: 59 ... \n",
      "Validation Accuracy: 0.94 \n",
      "\n",
      "EPOCH: 60 ... \n",
      "Validation Accuracy: 0.92 \n",
      "\n",
      "EPOCH: 61 ... \n",
      "Validation Accuracy: 0.94 \n",
      "\n",
      "EPOCH: 62 ... \n",
      "Validation Accuracy: 0.94 \n",
      "\n",
      "EPOCH: 63 ... \n",
      "Validation Accuracy: 0.93 \n",
      "\n",
      "EPOCH: 64 ... \n",
      "Validation Accuracy: 0.94 \n",
      "\n",
      "EPOCH: 65 ... \n",
      "Validation Accuracy: 0.94 \n",
      "\n",
      "EPOCH: 66 ... \n",
      "Validation Accuracy: 0.92 \n",
      "\n",
      "EPOCH: 67 ... \n",
      "Validation Accuracy: 0.94 \n",
      "\n",
      "EPOCH: 68 ... \n",
      "Validation Accuracy: 0.94 \n",
      "\n",
      "EPOCH: 69 ... \n",
      "Validation Accuracy: 0.94 \n",
      "\n",
      "EPOCH: 70 ... \n",
      "Validation Accuracy: 0.94 \n",
      "\n",
      "EPOCH: 71 ... \n",
      "Validation Accuracy: 0.94 \n",
      "\n",
      "EPOCH: 72 ... \n",
      "Validation Accuracy: 0.93 \n",
      "\n",
      "EPOCH: 73 ... \n",
      "Validation Accuracy: 0.94 \n",
      "\n",
      "EPOCH: 74 ... \n",
      "Validation Accuracy: 0.94 \n",
      "\n",
      "EPOCH: 75 ... \n",
      "Validation Accuracy: 0.93 \n",
      "\n",
      "EPOCH: 76 ... \n",
      "Validation Accuracy: 0.94 \n",
      "\n",
      "EPOCH: 77 ... \n",
      "Validation Accuracy: 0.93 \n",
      "\n",
      "EPOCH: 78 ... \n",
      "Validation Accuracy: 0.94 \n",
      "\n",
      "EPOCH: 79 ... \n",
      "Validation Accuracy: 0.94 \n",
      "\n",
      "EPOCH: 80 ... \n",
      "Validation Accuracy: 0.93 \n",
      "\n",
      "saved new accuracy 0.95 Step 81\n",
      "Training acc 1.00 \n",
      "EPOCH: 81 ... \n",
      "Validation Accuracy: 0.95 \n",
      "\n",
      "EPOCH: 82 ... \n",
      "Validation Accuracy: 0.94 \n",
      "\n",
      "EPOCH: 83 ... \n",
      "Validation Accuracy: 0.94 \n",
      "\n",
      "EPOCH: 84 ... \n",
      "Validation Accuracy: 0.94 \n",
      "\n",
      "EPOCH: 85 ... \n",
      "Validation Accuracy: 0.93 \n",
      "\n",
      "EPOCH: 86 ... \n",
      "Validation Accuracy: 0.94 \n",
      "\n",
      "EPOCH: 87 ... \n",
      "Validation Accuracy: 0.94 \n",
      "\n",
      "saved new accuracy 0.95 Step 88\n",
      "Training acc 1.00 \n",
      "EPOCH: 88 ... \n",
      "Validation Accuracy: 0.95 \n",
      "\n",
      "EPOCH: 89 ... \n",
      "Validation Accuracy: 0.94 \n",
      "\n",
      "saved new accuracy 0.95 Step 90\n",
      "Training acc 1.00 \n",
      "EPOCH: 90 ... \n",
      "Validation Accuracy: 0.95 \n",
      "\n",
      "EPOCH: 91 ... \n",
      "Validation Accuracy: 0.94 \n",
      "\n",
      "EPOCH: 92 ... \n",
      "Validation Accuracy: 0.95 \n",
      "\n",
      "EPOCH: 93 ... \n",
      "Validation Accuracy: 0.94 \n",
      "\n",
      "EPOCH: 94 ... \n",
      "Validation Accuracy: 0.93 \n",
      "\n",
      "EPOCH: 95 ... \n",
      "Validation Accuracy: 0.94 \n",
      "\n",
      "EPOCH: 96 ... \n",
      "Validation Accuracy: 0.93 \n",
      "\n",
      "EPOCH: 97 ... \n",
      "Validation Accuracy: 0.94 \n",
      "\n",
      "EPOCH: 98 ... \n",
      "Validation Accuracy: 0.94 \n",
      "\n",
      "EPOCH: 99 ... \n",
      "Validation Accuracy: 0.94 \n",
      "\n"
     ]
    }
   ],
   "source": [
    "### TRAIN HERE\n",
    "epochs = 100\n",
    "with tf.Session() as sess:\n",
    "    # initialize global variable\n",
    "    sess.run(tf.global_variables_initializer())\n",
    "    print (\"Start Training ... \")\n",
    "    best_accuracy = 0.93\n",
    "    # train for that many epochs\n",
    "    for i in range(epochs):\n",
    "        acc = None\n",
    "        for start in range(0, len(X_train), BATCH_SIZE):\n",
    "            end = start + BATCH_SIZE\n",
    "            # remaining batch\n",
    "            #print(start,end)\n",
    "            if end >= len(X_train):\n",
    "                end = len(X_train)\n",
    "            #print(X_train.shape)\n",
    "            x_batch = X_train[start:end]\n",
    "            y_batch = Y_train[start:end]\n",
    "            _, acc = sess.run([training_op,accuracy_operation], feed_dict={x:x_batch, y:y_batch, fc_keep_prob: 0.4, conv_keep_prob: 0.7})\n",
    "            \n",
    "        # run validation every epochs\n",
    "        val_accuracy = evaluate(X_valid, Y_valid)\n",
    "        if val_accuracy > best_accuracy:\n",
    "            print(\"saved new accuracy %.2f Step %d\" % (val_accuracy,i))\n",
    "            saver.save(sess, './lenet', global_step=i)\n",
    "            best_accuracy = val_accuracy\n",
    "            print(\"Training acc %.2f \" % acc)\n",
    "            \n",
    "        print(\"EPOCH: %d ... \"%i)\n",
    "        print(\"Validation Accuracy: %.2f \\n\" % val_accuracy)\n"
   ]
  },
  {
   "cell_type": "markdown",
   "metadata": {},
   "source": [
    "### TEST SET ACCURACY"
   ]
  },
  {
   "cell_type": "code",
   "execution_count": 27,
   "metadata": {},
   "outputs": [
    {
     "name": "stdout",
     "output_type": "stream",
     "text": [
      "./lenet-90\n"
     ]
    }
   ],
   "source": [
    "print(tf.train.latest_checkpoint('.'))"
   ]
  },
  {
   "cell_type": "code",
   "execution_count": 28,
   "metadata": {},
   "outputs": [
    {
     "name": "stdout",
     "output_type": "stream",
     "text": [
      "INFO:tensorflow:Restoring parameters from ./lenet-90\n",
      "Test Set Accuracy = 0.922\n"
     ]
    }
   ],
   "source": [
    "with tf.Session() as sess:\n",
    "    saver.restore(sess, tf.train.latest_checkpoint('.'))\n",
    "    accuracy = sess.run(accuracy_operation, feed_dict={x: X_test, y: Y_test, fc_keep_prob: 1.0, conv_keep_prob: 1.0})\n",
    "    print(\"Test Set Accuracy = {:.3f}\".format(accuracy))"
   ]
  },
  {
   "cell_type": "markdown",
   "metadata": {},
   "source": [
    "---\n",
    "\n",
    "## Step 3: Test a Model on New Images\n",
    "\n",
    "To give yourself more insight into how your model is working, download at least five pictures of German traffic signs from the web and use your model to predict the traffic sign type.\n",
    "\n",
    "You may find `signnames.csv` useful as it contains mappings from the class id (integer) to the actual sign name."
   ]
  },
  {
   "cell_type": "markdown",
   "metadata": {},
   "source": [
    "### Load and Output the Images"
   ]
  },
  {
   "cell_type": "code",
   "execution_count": 29,
   "metadata": {},
   "outputs": [
    {
     "name": "stdout",
     "output_type": "stream",
     "text": [
      "31.jpg\n",
      "27.jpg\n",
      "23.jpg\n",
      "25.jpg\n",
      "12.jpg\n"
     ]
    },
    {
     "name": "stderr",
     "output_type": "stream",
     "text": [
      "/home/carnd/anaconda3/envs/carnd-term1/lib/python3.5/site-packages/matplotlib/font_manager.py:1297: UserWarning: findfont: Font family ['sans-serif'] not found. Falling back to DejaVu Sans\n",
      "  (prop.get_family(), self.defaultFamily[fontext]))\n"
     ]
    },
    {
     "data": {
      "image/png": "[encoded data removed]",
      "text/plain": [
       "<matplotlib.figure.Figure at 0x7f9331d495f8>"
      ]
     },
     "metadata": {},
     "output_type": "display_data"
    },
    {
     "data": {
      "image/png": "[encoded data removed]",
      "text/plain": [
       "<matplotlib.figure.Figure at 0x7f933143b2b0>"
      ]
     },
     "metadata": {},
     "output_type": "display_data"
    },
    {
     "data": {
      "image/png": "[encoded data removed]",
      "text/plain": [
       "<matplotlib.figure.Figure at 0x7f933143b208>"
      ]
     },
     "metadata": {},
     "output_type": "display_data"
    },
    {
     "data": {
      "image/png": "[encoded data removed]",
      "text/plain": [
       "<matplotlib.figure.Figure at 0x7f93313d3be0>"
      ]
     },
     "metadata": {},
     "output_type": "display_data"
    },
    {
     "data": {
      "image/png": "[encoded data removed]",
      "text/plain": [
       "<matplotlib.figure.Figure at 0x7f9331395cc0>"
      ]
     },
     "metadata": {},
     "output_type": "display_data"
    }
   ],
   "source": [
    "### Load the images and plot them here.\n",
    "### Feel free to use as many code cells as needed.\n",
    "\n",
    "img_folder = \"./sign_examples\"\n",
    "files = os.listdir(img_folder)\n",
    "for image in files:\n",
    "    #img = plt.imread(os.path.join(img_folder, image))\n",
    "    img = cv2.imread(os.path.join(img_folder, image))\n",
    "    img = cv2.resize(img, (32,32))\n",
    "    img = cv2.cvtColor(img, cv2.COLOR_RGB2GRAY)\n",
    "    print(image)\n",
    "    plt.figure()\n",
    "    plt.imshow(img, cmap='gray')\n"
   ]
  },
  {
   "cell_type": "markdown",
   "metadata": {},
   "source": [
    "### Predict the Sign Type for Each Image"
   ]
  },
  {
   "cell_type": "code",
   "execution_count": 15,
   "metadata": {
    "collapsed": true
   },
   "outputs": [],
   "source": [
    "import pickle\n",
    "import numpy as np\n"
   ]
  },
  {
   "cell_type": "code",
   "execution_count": 24,
   "metadata": {},
   "outputs": [
    {
     "name": "stdout",
     "output_type": "stream",
     "text": [
      "31.jpg\n",
      "27.jpg\n",
      "23.jpg\n",
      "25.jpg\n",
      "12.jpg\n",
      "[31 27 23 25 12]\n"
     ]
    }
   ],
   "source": [
    "### Run the predictions here and use the model to output the prediction for each image.\n",
    "### Make sure to pre-process the images with the same pre-processing pipeline used earlier.\n",
    "### Feel free to use as many code cells as needed.\n",
    "import cv2\n",
    "image_inputs = []\n",
    "image_labels = []\n",
    "# preprocess image for \n",
    "for image in files:\n",
    "    dot_idx = image.rfind(\".\")\n",
    "    img = cv2.imread(os.path.join(img_folder, image))\n",
    "    img = cv2.resize(img, (32,32))\n",
    "    img = cv2.cvtColor(img, cv2.COLOR_BGR2GRAY)\n",
    "    \n",
    "    #print(img.shape)\n",
    "    image_inputs.append(img.reshape((32,32,1)))\n",
    "    image_labels.append(int(image[0:dot_idx]))\n",
    "    print(image)\n",
    "\n",
    "# convert image to np array\n",
    "image_inputs = np.array(image_inputs)\n",
    "image_labels = np.array(image_labels)\n",
    "# normalize\n",
    "image_inputs = (image_inputs - 128) / 128\n",
    "print(image_labels)"
   ]
  },
  {
   "cell_type": "markdown",
   "metadata": {},
   "source": [
    "### Analyze Performance"
   ]
  },
  {
   "cell_type": "code",
   "execution_count": 25,
   "metadata": {},
   "outputs": [
    {
     "name": "stdout",
     "output_type": "stream",
     "text": [
      "INFO:tensorflow:Restoring parameters from ./lenet-90\n",
      "Test Accuracy = 0.400\n",
      "True label 31. Predict 25 \n",
      "True label 27. Predict 11 \n",
      "True label 23. Predict 23 \n",
      "True label 25. Predict 40 \n",
      "True label 12. Predict 12 \n"
     ]
    }
   ],
   "source": [
    "### Calculate the accuracy for these 5 new images. \n",
    "### For example, if the model predicted 1 out of 5 signs correctly, it's 20% accurate on these new images.\n",
    "\n",
    "with tf.Session() as sess:\n",
    "    saver.restore(sess, tf.train.latest_checkpoint('.'))\n",
    "    accuracy = sess.run(accuracy_operation, feed_dict={x: image_inputs, y: image_labels, fc_keep_prob: 1.0, conv_keep_prob: 1.0})\n",
    "    results = sess.run(logits, feed_dict={x: image_inputs, y: image_labels, fc_keep_prob: 1.0, conv_keep_prob: 1.0})\n",
    "    print(\"Test Accuracy = {:.3f}\".format(accuracy))\n",
    "    for i, result in enumerate(results):\n",
    "        print (\"True label %d. Predict %d \"%(image_labels[i], np.argmax(result)))\n",
    "        "
   ]
  },
  {
   "cell_type": "markdown",
   "metadata": {},
   "source": [
    "### Output Top 5 Softmax Probabilities For Each Image Found on the Web"
   ]
  },
  {
   "cell_type": "markdown",
   "metadata": {},
   "source": [
    "For each of the new images, print out the model's softmax probabilities to show the **certainty** of the model's predictions (limit the output to the top 5 probabilities for each image). [`tf.nn.top_k`](https://www.tensorflow.org/versions/r0.12/api_docs/python/nn.html#top_k) could prove helpful here. \n",
    "\n",
    "The example below demonstrates how tf.nn.top_k can be used to find the top k predictions for each image.\n",
    "\n",
    "`tf.nn.top_k` will return the values and indices (class ids) of the top k predictions. So if k=3, for each sign, it'll return the 3 largest probabilities (out of a possible 43) and the correspoding class ids.\n",
    "\n",
    "Take this numpy array as an example. The values in the array represent predictions. The array contains softmax probabilities for five candidate images with six possible classes. `tf.nn.top_k` is used to choose the three classes with the highest probability:\n",
    "\n",
    "```\n",
    "# (5, 6) array\n",
    "a = np.array([[ 0.24879643,  0.07032244,  0.12641572,  0.34763842,  0.07893497,\n",
    "         0.12789202],\n",
    "       [ 0.28086119,  0.27569815,  0.08594638,  0.0178669 ,  0.18063401,\n",
    "         0.15899337],\n",
    "       [ 0.26076848,  0.23664738,  0.08020603,  0.07001922,  0.1134371 ,\n",
    "         0.23892179],\n",
    "       [ 0.11943333,  0.29198961,  0.02605103,  0.26234032,  0.1351348 ,\n",
    "         0.16505091],\n",
    "       [ 0.09561176,  0.34396535,  0.0643941 ,  0.16240774,  0.24206137,\n",
    "         0.09155967]])\n",
    "```\n",
    "\n",
    "Running it through `sess.run(tf.nn.top_k(tf.constant(a), k=3))` produces:\n",
    "\n",
    "```\n",
    "TopKV2(values=array([[ 0.34763842,  0.24879643,  0.12789202],\n",
    "       [ 0.28086119,  0.27569815,  0.18063401],\n",
    "       [ 0.26076848,  0.23892179,  0.23664738],\n",
    "       [ 0.29198961,  0.26234032,  0.16505091],\n",
    "       [ 0.34396535,  0.24206137,  0.16240774]]), indices=array([[3, 0, 5],\n",
    "       [0, 1, 4],\n",
    "       [0, 5, 1],\n",
    "       [1, 3, 5],\n",
    "       [1, 4, 3]], dtype=int32))\n",
    "```\n",
    "\n",
    "Looking just at the first row we get `[ 0.34763842,  0.24879643,  0.12789202]`, you can confirm these are the 3 largest probabilities in `a`. You'll also notice `[3, 0, 5]` are the corresponding indices."
   ]
  },
  {
   "cell_type": "code",
   "execution_count": 26,
   "metadata": {},
   "outputs": [
    {
     "name": "stdout",
     "output_type": "stream",
     "text": [
      "INFO:tensorflow:Restoring parameters from ./lenet-90\n",
      "Correct label 31 \n",
      "Top Softmax Prob:  [ 0.56717598  0.07654423  0.06459818  0.06242704  0.05147022]\n",
      "Top Indices:       [25 24 11 18 26]\n",
      "=====================================\n",
      "Correct label 27 \n",
      "Top Softmax Prob:  [ 0.16781412  0.08306085  0.0773699   0.06645579  0.06442976]\n",
      "Top Indices:       [11  0 30 40  1]\n",
      "=====================================\n",
      "Correct label 23 \n",
      "Top Softmax Prob:  [ 0.5672003   0.25730464  0.05713375  0.01276713  0.01273372]\n",
      "Top Indices:       [23 19  9 37 16]\n",
      "=====================================\n",
      "Correct label 25 \n",
      "Top Softmax Prob:  [ 0.14491153  0.13741329  0.10421175  0.08485825  0.07071254]\n",
      "Top Indices:       [40  2  1 11 12]\n",
      "=====================================\n",
      "Correct label 12 \n",
      "Top Softmax Prob:  [  9.99992847e-01   7.20085382e-06   5.23084687e-09   8.00876865e-10\n",
      "   5.94184535e-10]\n",
      "Top Indices:       [12 40 15  9 11]\n",
      "=====================================\n"
     ]
    }
   ],
   "source": [
    "### Print out the top five softmax probabilities for the predictions on the German traffic sign images found on the web. \n",
    "### Feel free to use as many code cells as needed.\n",
    "with tf.Session() as sess:\n",
    "    saver.restore(sess, tf.train.latest_checkpoint('.'))\n",
    "    results = sess.run(logits, feed_dict={x: image_inputs, y: image_labels, fc_keep_prob: 1.0, conv_keep_prob: 1.0})\n",
    "    top_ks = []\n",
    "    for i, result in enumerate(results):\n",
    "        top_result = sess.run(tf.nn.top_k(tf.nn.softmax(result), k=5))\n",
    "        #print (top_result)\n",
    "        print(\"Correct label %d \" % image_labels[i])\n",
    "        print(\"Top Softmax Prob: \", top_result.values)\n",
    "        print(\"Top Indices:      \", top_result.indices)\n",
    "        print(\"=====================================\")"
   ]
  },
  {
   "cell_type": "markdown",
   "metadata": {},
   "source": [
    "### Project Writeup\n",
    "\n",
    "Once you have completed the code implementation, document your results in a project writeup using this [template](https://github.com/udacity/CarND-Traffic-Sign-Classifier-Project/blob/master/writeup_template.md) as a guide. The writeup can be in a markdown or pdf file. "
   ]
  },
  {
   "cell_type": "markdown",
   "metadata": {},
   "source": [
    "> **Note**: Once you have completed all of the code implementations and successfully answered each question above, you may finalize your work by exporting the iPython Notebook as an HTML document. You can do this by using the menu above and navigating to  \\n\",\n",
    "    \"**File -> Download as -> HTML (.html)**. Include the finished document along with this notebook as your submission."
   ]
  },
  {
   "cell_type": "markdown",
   "metadata": {},
   "source": [
    "---\n",
    "\n",
    "## Step 4 (Optional): Visualize the Neural Network's State with Test Images\n",
    "\n",
    " This Section is not required to complete but acts as an additional excersise for understaning the output of a neural network's weights. While neural networks can be a great learning device they are often referred to as a black box. We can understand what the weights of a neural network look like better by plotting their feature maps. After successfully training your neural network you can see what it's feature maps look like by plotting the output of the network's weight layers in response to a test stimuli image. From these plotted feature maps, it's possible to see what characteristics of an image the network finds interesting. For a sign, maybe the inner network feature maps react with high activation to the sign's boundary outline or to the contrast in the sign's painted symbol.\n",
    "\n",
    " Provided for you below is the function code that allows you to get the visualization output of any tensorflow weight layer you want. The inputs to the function should be a stimuli image, one used during training or a new one you provided, and then the tensorflow variable name that represents the layer's state during the training process, for instance if you wanted to see what the [LeNet lab's](https://classroom.udacity.com/nanodegrees/nd013/parts/fbf77062-5703-404e-b60c-95b78b2f3f9e/modules/6df7ae49-c61c-4bb2-a23e-6527e69209ec/lessons/601ae704-1035-4287-8b11-e2c2716217ad/concepts/d4aca031-508f-4e0b-b493-e7b706120f81) feature maps looked like for it's second convolutional layer you could enter conv2 as the tf_activation variable.\n",
    "\n",
    "For an example of what feature map outputs look like, check out NVIDIA's results in their paper [End-to-End Deep Learning for Self-Driving Cars](https://devblogs.nvidia.com/parallelforall/deep-learning-self-driving-cars/) in the section Visualization of internal CNN State. NVIDIA was able to show that their network's inner weights had high activations to road boundary lines by comparing feature maps from an image with a clear path to one without. Try experimenting with a similar test to show that your trained network's weights are looking for interesting features, whether it's looking at differences in feature maps from images with or without a sign, or even what feature maps look like in a trained network vs a completely untrained one on the same sign image.\n",
    "\n",
    "<figure>\n",
    " <img src=\"visualize_cnn.png\" width=\"380\" alt=\"Combined Image\" />\n",
    " <figcaption>\n",
    " <p></p> \n",
    " <p style=\"text-align: center;\"> Your output should look something like this (above)</p> \n",
    " </figcaption>\n",
    "</figure>\n",
    " <p></p> \n"
   ]
  },
  {
   "cell_type": "code",
   "execution_count": 8,
   "metadata": {
    "collapsed": true
   },
   "outputs": [],
   "source": [
    "### Visualize your network's feature maps here.\n",
    "### Feel free to use as many code cells as needed.\n",
    "\n",
    "# image_input: the test image being fed into the network to produce the feature maps\n",
    "# tf_activation: should be a tf variable name used during your training procedure that represents the calculated state of a specific weight layer\n",
    "# activation_min/max: can be used to view the activation contrast in more detail, by default matplot sets min and max to the actual min and max values of the output\n",
    "# plt_num: used to plot out multiple different weight feature map sets on the same block, just extend the plt number for each new feature map entry\n",
    "\n",
    "def outputFeatureMap(image_input, tf_activation, activation_min=-1, activation_max=-1 ,plt_num=1):\n",
    "    # Here make sure to preprocess your image_input in a way your network expects\n",
    "    # with size, normalization, ect if needed\n",
    "    # image_input =\n",
    "    # Note: x should be the same name as your network's tensorflow data placeholder variable\n",
    "    # If you get an error tf_activation is not defined it may be having trouble accessing the variable from inside a function\n",
    "    activation = tf_activation.eval(session=sess,feed_dict={x : image_input})\n",
    "    featuremaps = activation.shape[3]\n",
    "    plt.figure(plt_num, figsize=(15,15))\n",
    "    for featuremap in range(featuremaps):\n",
    "        plt.subplot(6,8, featuremap+1) # sets the number of feature maps to show on each row and column\n",
    "        plt.title('FeatureMap ' + str(featuremap)) # displays the feature map number\n",
    "        if activation_min != -1 & activation_max != -1:\n",
    "            plt.imshow(activation[0,:,:, featuremap], interpolation=\"nearest\", vmin =activation_min, vmax=activation_max, cmap=\"gray\")\n",
    "        elif activation_max != -1:\n",
    "            plt.imshow(activation[0,:,:, featuremap], interpolation=\"nearest\", vmax=activation_max, cmap=\"gray\")\n",
    "        elif activation_min !=-1:\n",
    "            plt.imshow(activation[0,:,:, featuremap], interpolation=\"nearest\", vmin=activation_min, cmap=\"gray\")\n",
    "        else:\n",
    "            plt.imshow(activation[0,:,:, featuremap], interpolation=\"nearest\", cmap=\"gray\")"
   ]
  }
 ],
 "metadata": {
  "anaconda-cloud": {},
  "kernelspec": {
   "display_name": "Python 3",
   "language": "python",
   "name": "python3"
  },
  "language_info": {
   "codemirror_mode": {
    "name": "ipython",
    "version": 3
   },
   "file_extension": ".py",
   "mimetype": "text/x-python",
   "name": "python",
   "nbconvert_exporter": "python",
   "pygments_lexer": "ipython3",
   "version": "3.5.2"
  },
  "widgets": {
   "state": {},
   "version": "1.1.2"
  }
 },
 "nbformat": 4,
 "nbformat_minor": 1
}
